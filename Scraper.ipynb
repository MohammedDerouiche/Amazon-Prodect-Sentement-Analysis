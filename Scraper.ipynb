{
 "cells": [
  {
   "cell_type": "code",
   "execution_count": 22,
   "metadata": {},
   "outputs": [],
   "source": [
    "from bs4 import BeautifulSoup\n",
    "import csv\n",
    "import requests\n",
    "from random import choice\n",
    "\n",
    "url = \"https://www.amazon.com/Razer-Ornata-Gaming-Keyboard-\\\n",
    "Low-Profile/product-reviews/B09X6GJ691/ref=cm_cr_arp_d_p\\\n",
    "aging_btm_next_2?ie=UTF8&reviewerType=all_reviews&pa\\\n",
    "geNumber=1\"\n",
    "\n",
    "def staticUserAgentRotator():\n",
    "        user_agents = [\n",
    "        \"Mozilla/5.0 (Windows NT 10.0; Win64; x64) AppleWebKit/537.36 (KHTML, like Gecko) Chrome/118.0.0.0 Safari/537.36 Edg/118.0.2088.46\",\n",
    "        \"Mozilla/5.0 (Macintosh; Intel Mac OS X 12_3_1) AppleWebKit/537.75.14 (KHTML, like Gecko) Version/15.4 Safari/537.75.14\",\n",
    "        \"Mozilla/5.0 (Linux; Android 12) AppleWebKit/537.36 (KHTML, like Gecko) Chrome/103.0.0.0 Mobile Safari/537.36\",\n",
    "        \"Mozilla/5.0 (Windows NT 10.0; Win64; x64) AppleWebKit/537.36 (KHTML, like Gecko) Chrome/103.0.0.0 Safari/537.36\",\n",
    "        \"Mozilla/5.0 (Macintosh; Intel Mac OS X 12_3_1) AppleWebKit/537.75.14 (KHTML, like Gecko) Version/15.4 Safari/537.75.14\",\n",
    "        \"Mozilla/5.0 (Linux; Android 12) AppleWebKit/537.36 (KHTML, like Gecko) Chrome/103.0.0.0 Mobile Safari/537.36\",\n",
    "        \"Mozilla/5.0 (Windows NT 10.0; Win64; x64) AppleWebKit/537.36 (KHTML, like Gecko) Chrome/103.0.0.0 Safari/537.36\",\n",
    "        \"Mozilla/5.0 (Macintosh; Intel Mac OS X 12_3_1) AppleWebKit/537.75.14 (KHTML, like Gecko) Version/15.4 Safari/537.75.14\",\n",
    "        \"Mozilla/5.0 (Linux; Android 12) AppleWebKit/537.36 (KHTML, like Gecko) Chrome/103.0.0.0 Mobile Safari/537.36\",\n",
    "        \"Mozilla/5.0 (Windows NT 10.0; Win64; x64) AppleWebKit/537.36 (KHTML, like Gecko) Chrome/103.0.0.0 Safari/537.36\",\n",
    "        ]\n",
    "        return choice(user_agents)\n",
    "\n",
    "headers = {\n",
    "    'accept': 'text/html,*/*',\n",
    "    'accept-language': 'en-US,en;q=0.9,ar;q=0.8,fr;q=0.7,fr-FR;q=0.6,en-GB;q=0.5',\n",
    "    'device-memory': '4',\n",
    "    'downlink': '9.65',\n",
    "    'dpr': '1',\n",
    "    'ect': '4g',\n",
    "    'referer': 'https://www.amazon.com/Razer-Ornata-Gaming-Keyboard-Low-Profile/product-reviews/B09X6GJ691/ref=cm_cr_arp_d_paging_btm_next_2?ie=UTF8&reviewerType=all_reviews',\n",
    "    'rtt': '250',\n",
    "    'sec-ch-device-memory': '4',\n",
    "    'sec-ch-dpr': '1',\n",
    "    'sec-ch-ua': '\"Microsoft Edge\";v=\"123\", \"Not:A-Brand\";v=\"8\", \"Chromium\";v=\"123\"',\n",
    "    'sec-ch-ua-mobile': '?0',\n",
    "    'sec-ch-ua-platform': '\"Windows\"',\n",
    "    'sec-ch-ua-platform-version': '\"10.0.0\"',\n",
    "    'sec-ch-viewport-width': '1825',\n",
    "    'sec-fetch-dest': 'empty',\n",
    "    'sec-fetch-mode': 'cors',\n",
    "    'sec-fetch-site': 'same-origin',\n",
    "    'user-agent': staticUserAgentRotator(),\n",
    "    'viewport-width': '1825',\n",
    "    'x-requested-with': 'XMLHttpRequest',\n",
    "}\n"
   ]
  },
  {
   "cell_type": "code",
   "execution_count": 23,
   "metadata": {},
   "outputs": [
    {
     "name": "stdout",
     "output_type": "stream",
     "text": [
      "200\n"
     ]
    }
   ],
   "source": [
    "request = requests.get(url, headers=headers)\n",
    "print(request.status_code)"
   ]
  },
  {
   "cell_type": "code",
   "execution_count": 24,
   "metadata": {},
   "outputs": [],
   "source": [
    "soup = BeautifulSoup(request.content, \"html.parser\")"
   ]
  },
  {
   "cell_type": "code",
   "execution_count": 25,
   "metadata": {},
   "outputs": [
    {
     "name": "stdout",
     "output_type": "stream",
     "text": [
      "<h3 class=\"a-spacing-medium\" data-hook=\"arp-local-reviews-header\">\n",
      "\n",
      "\n",
      "\n",
      "\n",
      "\n",
      "\n",
      "\n",
      "\n",
      "From the United States\n",
      "</h3>\n"
     ]
    }
   ],
   "source": [
    "h3_tag = soup.find(\"h3\", attrs={\"data-hook\": \"arp-local-reviews-header\"})\n",
    "print(h3_tag)"
   ]
  },
  {
   "cell_type": "code",
   "execution_count": 15,
   "metadata": {},
   "outputs": [
    {
     "name": "stdout",
     "output_type": "stream",
     "text": [
      "From the United States\n"
     ]
    }
   ],
   "source": [
    "print(h3_tag.text.strip())"
   ]
  },
  {
   "cell_type": "code",
   "execution_count": 21,
   "metadata": {},
   "outputs": [
    {
     "name": "stdout",
     "output_type": "stream",
     "text": [
      "Mark Vaughn\n",
      "John\n",
      "Mark Vaughn\n",
      "Lauren Hall\n",
      "Adam\n",
      "Mark Z\n",
      "Stephanie H.\n",
      "Luis\n",
      "John\n",
      "Deez nuts\n",
      "NirvanaDollBaby\n",
      "AMB\n"
     ]
    }
   ],
   "source": [
    "reviewersNames = soup.find_all(\"span\", attrs={\"class\":\"a-profile-name\"})\n",
    "for name in reviewersNames:\n",
    "    print(name.text.strip())"
   ]
  }
 ],
 "metadata": {
  "kernelspec": {
   "display_name": "Python 3",
   "language": "python",
   "name": "python3"
  },
  "language_info": {
   "codemirror_mode": {
    "name": "ipython",
    "version": 3
   },
   "file_extension": ".py",
   "mimetype": "text/x-python",
   "name": "python",
   "nbconvert_exporter": "python",
   "pygments_lexer": "ipython3",
   "version": "3.10.11"
  }
 },
 "nbformat": 4,
 "nbformat_minor": 2
}
